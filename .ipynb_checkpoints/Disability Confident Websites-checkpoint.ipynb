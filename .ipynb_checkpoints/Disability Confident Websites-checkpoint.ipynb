{
 "cells": [
  {
   "cell_type": "code",
   "execution_count": 3,
   "metadata": {},
   "outputs": [
    {
     "name": "stdout",
     "output_type": "stream",
     "text": [
      "beta.companieshouse.gov.uk\n",
      "\n",
      "beta.companieshouse.gov.uk\n",
      "\n",
      "www.dsa-qag.org.uk\n",
      "\n",
      "suite.endole.co.uk\n",
      "\n",
      "companycheck.co.uk\n",
      "\n",
      "www.3rein.co.uk\n",
      "\n",
      "www.thegazette.co.uk\n",
      "\n",
      "www.linkedin.com\n",
      "\n",
      "www.bizdb.co.uk\n",
      "\n",
      "www.companiesintheuk.co.uk\n",
      "\n"
     ]
    }
   ],
   "source": [
    "import requests, sys, bs4\n",
    "\n",
    "res = requests.get('https://www.google.co.uk/search?q=3REIN Limited')\n",
    "#res = requests.get('https://www.google.co.uk/search?q=2nd Nature Cleaning LTD')\n",
    "\n",
    "res.raise_for_status()\n",
    "\n",
    "soup = bs4.BeautifulSoup(res.text, 'html.parser')\n",
    "\n",
    "linkElems = soup.select('.r a')\n",
    "\n",
    "for i in range(5):\n",
    "    href_text = linkElems[i].get('href')\n",
    "    all_text = href_text.split('/')\n",
    "    website_text = all_text[3]\n",
    "    print(website_text)\n",
    "    print()\n",
    "\n"
   ]
  },
  {
   "cell_type": "code",
   "execution_count": 17,
   "metadata": {},
   "outputs": [
    {
     "name": "stdout",
     "output_type": "stream",
     "text": [
      "Processing...\n"
     ]
    },
    {
     "ename": "IndexError",
     "evalue": "list index out of range",
     "output_type": "error",
     "traceback": [
      "\u001b[1;31m---------------------------------------------------------------------------\u001b[0m",
      "\u001b[1;31mIndexError\u001b[0m                                Traceback (most recent call last)",
      "\u001b[1;32m<ipython-input-17-4044379526ec>\u001b[0m in \u001b[0;36m<module>\u001b[1;34m\u001b[0m\n\u001b[0;32m     22\u001b[0m         \u001b[0mhref_text\u001b[0m \u001b[1;33m=\u001b[0m \u001b[0mlinkElems\u001b[0m\u001b[1;33m[\u001b[0m\u001b[1;36m0\u001b[0m\u001b[1;33m]\u001b[0m\u001b[1;33m.\u001b[0m\u001b[0mget\u001b[0m\u001b[1;33m(\u001b[0m\u001b[1;34m'href'\u001b[0m\u001b[1;33m)\u001b[0m\u001b[1;33m\u001b[0m\u001b[0m\n\u001b[0;32m     23\u001b[0m         \u001b[0mall_text\u001b[0m \u001b[1;33m=\u001b[0m \u001b[0mhref_text\u001b[0m\u001b[1;33m.\u001b[0m\u001b[0msplit\u001b[0m\u001b[1;33m(\u001b[0m\u001b[1;34m'/'\u001b[0m\u001b[1;33m)\u001b[0m\u001b[1;33m\u001b[0m\u001b[0m\n\u001b[1;32m---> 24\u001b[1;33m         \u001b[0mwebsite_text\u001b[0m \u001b[1;33m=\u001b[0m \u001b[0mall_text\u001b[0m\u001b[1;33m[\u001b[0m\u001b[1;36m3\u001b[0m\u001b[1;33m]\u001b[0m\u001b[1;33m\u001b[0m\u001b[0m\n\u001b[0m\u001b[0;32m     25\u001b[0m         \u001b[1;31m#print(row[0] + ' - ' + website_text)\u001b[0m\u001b[1;33m\u001b[0m\u001b[1;33m\u001b[0m\u001b[0m\n\u001b[0;32m     26\u001b[0m         \u001b[0mwrite_txt_file\u001b[0m\u001b[1;33m.\u001b[0m\u001b[0mwrite\u001b[0m\u001b[1;33m(\u001b[0m\u001b[0mwebsite_text\u001b[0m \u001b[1;33m+\u001b[0m \u001b[1;34m'\\n'\u001b[0m\u001b[1;33m)\u001b[0m\u001b[1;33m\u001b[0m\u001b[0m\n",
      "\u001b[1;31mIndexError\u001b[0m: list index out of range"
     ]
    }
   ],
   "source": [
    "import requests, sys, bs4, csv\n",
    "\n",
    "print('Processing...')\n",
    "\n",
    "read_csv_file = open('data/disabilityconfident.csv', 'r')\n",
    "write_txt_file = open('data/website.txt', 'w')\n",
    "\n",
    "csv_reader = csv.reader(read_csv_file, delimiter=',')\n",
    "\n",
    "line_count = 0\n",
    "for row in csv_reader:\n",
    "    if line_count == 0:\n",
    "        write_txt_file.write('Website' + '\\n')\n",
    "        line_count += 1\n",
    "        continue\n",
    "    else:\n",
    "        res = requests.get('https://www.google.co.uk/search?q=' + row[0])\n",
    "        res.raise_for_status()\n",
    "        soup = bs4.BeautifulSoup(res.text, 'html.parser')\n",
    "        linkElems = soup.select('.r a')\n",
    "\n",
    "        href_text = linkElems[0].get('href')\n",
    "        all_text = href_text.split('/')\n",
    "        try:\n",
    "            website_text = all_text[3]\n",
    "            #print(row[0] + ' - ' + website_text)\n",
    "            write_txt_file.write(website_text + '\\n')\n",
    "        except:\n",
    "            print('Error for ' + row[0] + 'website.')\n",
    "            \n",
    "        line_count += 1\n",
    "        \n",
    "read_csv_file.close()\n",
    "write_txt_file.close()\n",
    "\n",
    "print('Finished!')"
   ]
  },
  {
   "cell_type": "code",
   "execution_count": null,
   "metadata": {},
   "outputs": [],
   "source": []
  },
  {
   "cell_type": "code",
   "execution_count": null,
   "metadata": {},
   "outputs": [],
   "source": []
  },
  {
   "cell_type": "code",
   "execution_count": null,
   "metadata": {},
   "outputs": [],
   "source": []
  }
 ],
 "metadata": {
  "kernelspec": {
   "display_name": "Python 3",
   "language": "python",
   "name": "python3"
  },
  "language_info": {
   "codemirror_mode": {
    "name": "ipython",
    "version": 3
   },
   "file_extension": ".py",
   "mimetype": "text/x-python",
   "name": "python",
   "nbconvert_exporter": "python",
   "pygments_lexer": "ipython3",
   "version": "3.6.4"
  }
 },
 "nbformat": 4,
 "nbformat_minor": 2
}
