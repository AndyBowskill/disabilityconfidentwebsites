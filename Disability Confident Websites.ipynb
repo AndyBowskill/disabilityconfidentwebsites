{
 "cells": [
  {
   "cell_type": "code",
   "execution_count": null,
   "metadata": {},
   "outputs": [],
   "source": [
    "import requests, sys, bs4, csv\n",
    "\n",
    "print('Processing...')\n",
    "\n",
    "read_csv_file = open('data/disabilityconfident.csv', 'r')\n",
    "write_csv_file = open('data/disabilityconfidentwebsite.csv', 'w', newline='')\n",
    "\n",
    "csv_reader = csv.reader(read_csv_file, delimiter=',')\n",
    "csv_writer = csv.writer(write_csv_file)\n",
    "\n",
    "line_count = 0\n",
    "for row in csv_reader:\n",
    "\n",
    "    line_count += 1\n",
    "\n",
    "    if len(row) >= 6:\n",
    "        continue\n",
    "\n",
    "    if line_count == 1:\n",
    "        csv_writer.writerow(['Business name','Town or city','Postcode','Sector','DC level','Website'])\n",
    "        continue\n",
    "    else:\n",
    "        html = requests.get('https://www.google.co.uk/search?q=' + row[0])\n",
    "        if 200 != html.status_code:\n",
    "            break\n",
    "\n",
    "        soup = bs4.BeautifulSoup(html.text, 'html.parser')\n",
    "        link_elements = soup.select('.r a')\n",
    "\n",
    "        try:\n",
    "            website_text = ''\n",
    "\n",
    "            for link in [0, 1]:\n",
    "\n",
    "                href_text = link_elements[link].get('href')\n",
    "                all_text = href_text.split('/')\n",
    "\n",
    "                if len(all_text) >= 4:\n",
    "                    website_text = all_text[3]\n",
    "                    break\n",
    "\n",
    "            csv_writer.writerow([row[0],row[1],row[2],row[3],row[4],website_text])\n",
    "\n",
    "        except:\n",
    "            print('Error for the ' + row[0] + ' website.')\n",
    "\n",
    "        if line_count + 500 >= 2500:\n",
    "            break\n",
    "\n",
    "read_csv_file.close()\n",
    "write_csv_file.close()\n",
    "\n",
    "print('Finished!')"
   ]
  }
 ],
 "metadata": {
  "kernelspec": {
   "display_name": "Python 3",
   "language": "python",
   "name": "python3"
  },
  "language_info": {
   "codemirror_mode": {
    "name": "ipython",
    "version": 3
   },
   "file_extension": ".py",
   "mimetype": "text/x-python",
   "name": "python",
   "nbconvert_exporter": "python",
   "pygments_lexer": "ipython3",
   "version": "3.6.4"
  }
 },
 "nbformat": 4,
 "nbformat_minor": 2
}
